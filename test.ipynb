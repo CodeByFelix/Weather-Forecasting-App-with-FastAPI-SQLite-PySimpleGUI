{
 "cells": [
  {
   "cell_type": "code",
   "execution_count": 1,
   "id": "f64ce12e",
   "metadata": {},
   "outputs": [],
   "source": [
    "from Backend import database"
   ]
  },
  {
   "cell_type": "code",
   "execution_count": 2,
   "id": "00f72ccf",
   "metadata": {},
   "outputs": [],
   "source": [
    "db = database.init_db ()"
   ]
  },
  {
   "cell_type": "code",
   "execution_count": 5,
   "id": "66a04417",
   "metadata": {},
   "outputs": [
    {
     "data": {
      "text/plain": [
       "True"
      ]
     },
     "execution_count": 5,
     "metadata": {},
     "output_type": "execute_result"
    }
   ],
   "source": [
    "data = {'timestamp': '123755',\n",
    "        'city': 'Oba',\n",
    "        'country': 'NG',\n",
    "        'description': 'cloud',\n",
    "        'temp': 32.2,\n",
    "        'humidity': 70,\n",
    "        'pressure': 23,\n",
    "        'wind': 23.2,\n",
    "        'long': 34.3,\n",
    "        'lat': 32.2}\n",
    "\n",
    "database.insert_weather_data (db, data)"
   ]
  },
  {
   "cell_type": "code",
   "execution_count": 9,
   "id": "f0381adb",
   "metadata": {},
   "outputs": [
    {
     "name": "stdout",
     "output_type": "stream",
     "text": [
      "123655\n",
      "Oba\n",
      "NG\n",
      "cloud\n",
      "32.2\n",
      "70\n",
      "23\n",
      "23.2\n",
      "34.3\n",
      "32.2\n"
     ]
    }
   ],
   "source": [
    "dd = database.get_weather_data (db, '123655')\n",
    "for d in dd:\n",
    "    print (d['timestamp'])\n",
    "    print (data['city'])\n",
    "    print (data['country'])\n",
    "    print (data['description'])\n",
    "    print (data['temp'])\n",
    "    print (data['humidity'])\n",
    "    print (data['pressure'])\n",
    "    print (data['wind'])\n",
    "    print (data['long'])\n",
    "    print (data['lat'])"
   ]
  },
  {
   "cell_type": "code",
   "execution_count": 13,
   "id": "160616e7",
   "metadata": {},
   "outputs": [
    {
     "data": {
      "text/plain": [
       "True"
      ]
     },
     "execution_count": 13,
     "metadata": {},
     "output_type": "execute_result"
    }
   ],
   "source": [
    "database.delete_weather_data (db, '123456')"
   ]
  },
  {
   "cell_type": "code",
   "execution_count": 17,
   "id": "12db58ff",
   "metadata": {},
   "outputs": [
    {
     "name": "stdout",
     "output_type": "stream",
     "text": [
      "123455\n",
      "Oba\n",
      "NG\n",
      "cloud\n",
      "32.2\n",
      "70\n",
      "23\n",
      "23.2\n",
      "34.3\n",
      "32.2\n",
      "***************\n",
      "\n",
      "123555\n",
      "Oba\n",
      "NG\n",
      "cloud\n",
      "32.2\n",
      "70\n",
      "23\n",
      "23.2\n",
      "34.3\n",
      "32.2\n",
      "***************\n",
      "\n",
      "123755\n",
      "Oba\n",
      "NG\n",
      "cloud\n",
      "32.2\n",
      "70\n",
      "23\n",
      "23.2\n",
      "34.3\n",
      "32.2\n",
      "***************\n",
      "\n"
     ]
    }
   ],
   "source": [
    "dd = database.get_all_weather_data (db)\n",
    "for data in dd:\n",
    "    print (data['timestamp'])\n",
    "    print (data['city'])\n",
    "    print (data['country'])\n",
    "    print (data['description'])\n",
    "    print (data['temp'])\n",
    "    print (data['humidity'])\n",
    "    print (data['pressure'])\n",
    "    print (data['wind'])\n",
    "    print (data['long'])\n",
    "    print (data['lat'])\n",
    "    print ('***************\\n')"
   ]
  },
  {
   "cell_type": "code",
   "execution_count": 25,
   "id": "21ef5fd6",
   "metadata": {},
   "outputs": [
    {
     "name": "stdout",
     "output_type": "stream",
     "text": [
      "NG\n"
     ]
    }
   ],
   "source": [
    "dd = database.get_weather_data (db, '123755')\n",
    "if dd:\n",
    "    print (dd[0]['country'])"
   ]
  },
  {
   "cell_type": "code",
   "execution_count": 27,
   "id": "1bc0f324",
   "metadata": {},
   "outputs": [],
   "source": [
    "data = database.get_all_weather_data (db)\n",
    "if data:\n",
    "        dd = [\n",
    "            {\n",
    "            \"timestamp\": row[\"timestamp\"],\n",
    "            \"city\": row[\"city\"],\n",
    "            \"country\": row[\"country\"],\n",
    "            \"description\": row[\"description\"],\n",
    "            \"temp\": row[\"temp\"],\n",
    "            \"humidity\": row[\"humidity\"],\n",
    "            \"pressure\": row[\"pressure\"],\n",
    "            \"wind\": row[\"wind\"],\n",
    "            \"long\": row[\"long\"],\n",
    "            \"lat\": row[\"lat\"]\n",
    "            } for row in data\n",
    "        ]"
   ]
  },
  {
   "cell_type": "code",
   "execution_count": 28,
   "id": "27660087",
   "metadata": {},
   "outputs": [
    {
     "data": {
      "text/plain": [
       "[{'timestamp': '123455',\n",
       "  'city': 'Oba',\n",
       "  'country': 'NG',\n",
       "  'description': 'cloud',\n",
       "  'temp': 32.2,\n",
       "  'humidity': 70,\n",
       "  'pressure': 23,\n",
       "  'wind': 23.2,\n",
       "  'long': 34.3,\n",
       "  'lat': 32.2},\n",
       " {'timestamp': '123555',\n",
       "  'city': 'Oba',\n",
       "  'country': 'NG',\n",
       "  'description': 'cloud',\n",
       "  'temp': 32.2,\n",
       "  'humidity': 70,\n",
       "  'pressure': 23,\n",
       "  'wind': 23.2,\n",
       "  'long': 34.3,\n",
       "  'lat': 32.2},\n",
       " {'timestamp': '123755',\n",
       "  'city': 'Oba',\n",
       "  'country': 'NG',\n",
       "  'description': 'cloud',\n",
       "  'temp': 32.2,\n",
       "  'humidity': 70,\n",
       "  'pressure': 23,\n",
       "  'wind': 23.2,\n",
       "  'long': 34.3,\n",
       "  'lat': 32.2}]"
      ]
     },
     "execution_count": 28,
     "metadata": {},
     "output_type": "execute_result"
    }
   ],
   "source": [
    "dd"
   ]
  },
  {
   "cell_type": "code",
   "execution_count": 33,
   "id": "c591ed84",
   "metadata": {},
   "outputs": [],
   "source": [
    "row = database.get_weather_data (db, '123755')\n",
    "if row:\n",
    "    dd = {\n",
    "            \"timestamp\": row[0][\"timestamp\"],\n",
    "            \"city\": row[0][\"city\"],\n",
    "            \"country\": row[0][\"country\"],\n",
    "            \"description\": row[0][\"description\"],\n",
    "            \"temp\": row[0][\"temp\"],\n",
    "            \"humidity\": row[0][\"humidity\"],\n",
    "            \"pressure\": row[0][\"pressure\"],\n",
    "            \"wind\": row[0][\"wind\"],\n",
    "            \"long\": row[0][\"long\"],\n",
    "            \"lat\": row[0][\"lat\"]\n",
    "        }"
   ]
  },
  {
   "cell_type": "code",
   "execution_count": 34,
   "id": "5a138e79",
   "metadata": {},
   "outputs": [
    {
     "data": {
      "text/plain": [
       "{'timestamp': '123755',\n",
       " 'city': 'Oba',\n",
       " 'country': 'NG',\n",
       " 'description': 'cloud',\n",
       " 'temp': 32.2,\n",
       " 'humidity': 70,\n",
       " 'pressure': 23,\n",
       " 'wind': 23.2,\n",
       " 'long': 34.3,\n",
       " 'lat': 32.2}"
      ]
     },
     "execution_count": 34,
     "metadata": {},
     "output_type": "execute_result"
    }
   ],
   "source": [
    "dd"
   ]
  },
  {
   "cell_type": "code",
   "execution_count": null,
   "id": "703a18cb",
   "metadata": {},
   "outputs": [],
   "source": []
  }
 ],
 "metadata": {
  "kernelspec": {
   "display_name": "base",
   "language": "python",
   "name": "python3"
  },
  "language_info": {
   "codemirror_mode": {
    "name": "ipython",
    "version": 3
   },
   "file_extension": ".py",
   "mimetype": "text/x-python",
   "name": "python",
   "nbconvert_exporter": "python",
   "pygments_lexer": "ipython3",
   "version": "3.11.7"
  }
 },
 "nbformat": 4,
 "nbformat_minor": 5
}
